{
  "nbformat": 4,
  "nbformat_minor": 0,
  "metadata": {
    "anaconda-cloud": {},
    "kernelspec": {
      "display_name": "Python [default]",
      "language": "python",
      "name": "python3"
    },
    "language_info": {
      "codemirror_mode": {
        "name": "ipython",
        "version": 3
      },
      "file_extension": ".py",
      "mimetype": "text/x-python",
      "name": "python",
      "nbconvert_exporter": "python",
      "pygments_lexer": "ipython3",
      "version": "3.5.2"
    },
    "colab": {
      "name": "job description parsing",
      "provenance": [],
      "collapsed_sections": []
    }
  },
  "cells": [
    {
      "cell_type": "code",
      "metadata": {
        "collapsed": true,
        "id": "qQvyKcb9xvat"
      },
      "source": [
        "import os\n",
        "import re"
      ],
      "execution_count": null,
      "outputs": []
    },
    {
      "cell_type": "code",
      "metadata": {
        "collapsed": true,
        "id": "YisPWMw9xvav",
        "colab": {
          "base_uri": "https://localhost:8080/"
        },
        "outputId": "03e8ebc6-2e0b-4793-f85c-64aefb20b086"
      },
      "source": [
        "import nltk\n",
        "nltk.download('punkt')\n",
        "nltk.download('stopwords')\n",
        "nltk.download('averaged_perceptron_tagger')\n",
        "from nltk.corpus import stopwords\n",
        "from nltk import word_tokenize\n",
        "from nltk.util import ngrams\n",
        "from nltk.util import bigrams\n",
        "from nltk.collocations import *"
      ],
      "execution_count": null,
      "outputs": [
        {
          "output_type": "stream",
          "name": "stdout",
          "text": [
            "[nltk_data] Downloading package punkt to /root/nltk_data...\n",
            "[nltk_data]   Package punkt is already up-to-date!\n",
            "[nltk_data] Downloading package stopwords to /root/nltk_data...\n",
            "[nltk_data]   Package stopwords is already up-to-date!\n",
            "[nltk_data] Downloading package averaged_perceptron_tagger to\n",
            "[nltk_data]     /root/nltk_data...\n",
            "[nltk_data]   Package averaged_perceptron_tagger is already up-to-\n",
            "[nltk_data]       date!\n"
          ]
        }
      ]
    },
    {
      "cell_type": "code",
      "metadata": {
        "collapsed": true,
        "id": "kQxQaT7Wxvaw"
      },
      "source": [
        "import pandas as pd\n",
        "import numpy as np"
      ],
      "execution_count": null,
      "outputs": []
    },
    {
      "cell_type": "code",
      "metadata": {
        "collapsed": true,
        "id": "eftumwW1xvaw"
      },
      "source": [
        "from wordcloud import WordCloud\n",
        "import matplotlib.pyplot as plt"
      ],
      "execution_count": null,
      "outputs": []
    },
    {
      "cell_type": "markdown",
      "metadata": {
        "id": "j8iw9zjjxvax"
      },
      "source": [
        "### Read the text"
      ]
    },
    {
      "cell_type": "code",
      "metadata": {
        "collapsed": true,
        "id": "pD8W9aCuxva-"
      },
      "source": [
        "with open('/content/jd.txt') as f:\n",
        "    data = f.read()"
      ],
      "execution_count": null,
      "outputs": []
    },
    {
      "cell_type": "markdown",
      "metadata": {
        "id": "h5mALkckxva_"
      },
      "source": [
        "### Convert the text to lowercase "
      ]
    },
    {
      "cell_type": "code",
      "metadata": {
        "collapsed": true,
        "id": "EiJsLmy7xvbA"
      },
      "source": [
        "data = data.lower()"
      ],
      "execution_count": null,
      "outputs": []
    },
    {
      "cell_type": "markdown",
      "metadata": {
        "id": "BrGEp_npxvbA"
      },
      "source": [
        "### Finding total number of words and punctuation in the text"
      ]
    },
    {
      "cell_type": "code",
      "metadata": {
        "collapsed": true,
        "id": "emdwDPHexvbB"
      },
      "source": [
        "tokens = nltk.word_tokenize(data)"
      ],
      "execution_count": null,
      "outputs": []
    },
    {
      "cell_type": "code",
      "metadata": {
        "id": "9_-MVLlDxvbB",
        "colab": {
          "base_uri": "https://localhost:8080/"
        },
        "outputId": "99c3ad66-9f84-4ede-da8b-c6d6d9577a3a"
      },
      "source": [
        "print(len(tokens))"
      ],
      "execution_count": null,
      "outputs": [
        {
          "output_type": "stream",
          "name": "stdout",
          "text": [
            "360\n"
          ]
        }
      ]
    },
    {
      "cell_type": "markdown",
      "metadata": {
        "id": "2rZBDASCxvbC"
      },
      "source": [
        "### Removing Stop-words"
      ]
    },
    {
      "cell_type": "code",
      "metadata": {
        "collapsed": true,
        "id": "r2F-VsXdxvbC"
      },
      "source": [
        "stop = set(stopwords.words('english'))"
      ],
      "execution_count": null,
      "outputs": []
    },
    {
      "cell_type": "code",
      "metadata": {
        "collapsed": true,
        "id": "aWLFXl3qxvbD"
      },
      "source": [
        "token_list1 = [ ]"
      ],
      "execution_count": null,
      "outputs": []
    },
    {
      "cell_type": "code",
      "metadata": {
        "collapsed": true,
        "id": "jJKU0QpQxvbD"
      },
      "source": [
        "for token in tokens:\n",
        "    if token not in stop:\n",
        "        token_list1.append(token)"
      ],
      "execution_count": null,
      "outputs": []
    },
    {
      "cell_type": "code",
      "metadata": {
        "id": "Csvy8lqjxvbD",
        "colab": {
          "base_uri": "https://localhost:8080/"
        },
        "outputId": "0b261157-2df7-45e5-c4c8-94edf0639218"
      },
      "source": [
        "print(len(token_list1))"
      ],
      "execution_count": null,
      "outputs": [
        {
          "output_type": "stream",
          "name": "stdout",
          "text": [
            "297\n"
          ]
        }
      ]
    },
    {
      "cell_type": "markdown",
      "metadata": {
        "id": "NiKb7iMpxvbE"
      },
      "source": [
        "### Removing punctuation"
      ]
    },
    {
      "cell_type": "code",
      "metadata": {
        "collapsed": true,
        "id": "JAM469AAxvbE"
      },
      "source": [
        "punctuation = re.compile(r'[-.?!,\":;()|0-9]')"
      ],
      "execution_count": null,
      "outputs": []
    },
    {
      "cell_type": "code",
      "metadata": {
        "collapsed": true,
        "id": "AkT5RGYHxvbE"
      },
      "source": [
        "token_list2 = [ ]"
      ],
      "execution_count": null,
      "outputs": []
    },
    {
      "cell_type": "code",
      "metadata": {
        "collapsed": true,
        "id": "ZHtbZ01xxvbF"
      },
      "source": [
        "for token in token_list1:\n",
        "    word = punctuation.sub(\"\", token)\n",
        "    if len(word)>0:\n",
        "        token_list2.append(word)"
      ],
      "execution_count": null,
      "outputs": []
    },
    {
      "cell_type": "code",
      "metadata": {
        "id": "jTr7G54UxvbF",
        "colab": {
          "base_uri": "https://localhost:8080/"
        },
        "outputId": "4529392d-11d6-4c86-c177-a0b82e194220"
      },
      "source": [
        "print(len(token_list2))"
      ],
      "execution_count": null,
      "outputs": [
        {
          "output_type": "stream",
          "name": "stdout",
          "text": [
            "240\n"
          ]
        }
      ]
    },
    {
      "cell_type": "markdown",
      "metadata": {
        "id": "hzQWhr_PxvbG"
      },
      "source": [
        "### Finding POS tags of words"
      ]
    },
    {
      "cell_type": "code",
      "metadata": {
        "collapsed": true,
        "id": "B7D7Pc6PxvbG"
      },
      "source": [
        "tokens_pos_tag = nltk.pos_tag(token_list2)"
      ],
      "execution_count": null,
      "outputs": []
    },
    {
      "cell_type": "code",
      "metadata": {
        "collapsed": true,
        "id": "8Qz3i6D6xvbG"
      },
      "source": [
        "pos_df = pd.DataFrame(tokens_pos_tag, columns = ('word','POS'))"
      ],
      "execution_count": null,
      "outputs": []
    },
    {
      "cell_type": "code",
      "metadata": {
        "id": "Sn2ZJYIaxvbG",
        "colab": {
          "base_uri": "https://localhost:8080/",
          "height": 203
        },
        "outputId": "cae8c58a-59ff-4008-b2b2-82235b00bd46"
      },
      "source": [
        "pos_df.head()"
      ],
      "execution_count": null,
      "outputs": [
        {
          "output_type": "execute_result",
          "data": {
            "text/html": [
              "<div>\n",
              "<style scoped>\n",
              "    .dataframe tbody tr th:only-of-type {\n",
              "        vertical-align: middle;\n",
              "    }\n",
              "\n",
              "    .dataframe tbody tr th {\n",
              "        vertical-align: top;\n",
              "    }\n",
              "\n",
              "    .dataframe thead th {\n",
              "        text-align: right;\n",
              "    }\n",
              "</style>\n",
              "<table border=\"1\" class=\"dataframe\">\n",
              "  <thead>\n",
              "    <tr style=\"text-align: right;\">\n",
              "      <th></th>\n",
              "      <th>word</th>\n",
              "      <th>POS</th>\n",
              "    </tr>\n",
              "  </thead>\n",
              "  <tbody>\n",
              "    <tr>\n",
              "      <th>0</th>\n",
              "      <td>data</td>\n",
              "      <td>NNS</td>\n",
              "    </tr>\n",
              "    <tr>\n",
              "      <th>1</th>\n",
              "      <td>analyst</td>\n",
              "      <td>NN</td>\n",
              "    </tr>\n",
              "    <tr>\n",
              "      <th>2</th>\n",
              "      <td>job</td>\n",
              "      <td>NN</td>\n",
              "    </tr>\n",
              "    <tr>\n",
              "      <th>3</th>\n",
              "      <td>responsibilities</td>\n",
              "      <td>NNS</td>\n",
              "    </tr>\n",
              "    <tr>\n",
              "      <th>4</th>\n",
              "      <td>develops</td>\n",
              "      <td>VBZ</td>\n",
              "    </tr>\n",
              "  </tbody>\n",
              "</table>\n",
              "</div>"
            ],
            "text/plain": [
              "               word  POS\n",
              "0              data  NNS\n",
              "1           analyst   NN\n",
              "2               job   NN\n",
              "3  responsibilities  NNS\n",
              "4          develops  VBZ"
            ]
          },
          "metadata": {},
          "execution_count": 24
        }
      ]
    },
    {
      "cell_type": "code",
      "metadata": {
        "collapsed": true,
        "id": "lSI9NYmoxvbH"
      },
      "source": [
        "pos_sum = pos_df.groupby('POS', as_index=False).count() # group by POS tags"
      ],
      "execution_count": null,
      "outputs": []
    },
    {
      "cell_type": "code",
      "metadata": {
        "id": "wEv-u-CvxvbH",
        "colab": {
          "base_uri": "https://localhost:8080/",
          "height": 450
        },
        "outputId": "910b5205-f420-4ece-83fe-23ff2b168053"
      },
      "source": [
        "pos_sum.sort_values(['word'], ascending=[False]) # in descending order of number of words per tag"
      ],
      "execution_count": null,
      "outputs": [
        {
          "output_type": "execute_result",
          "data": {
            "text/html": [
              "<div>\n",
              "<style scoped>\n",
              "    .dataframe tbody tr th:only-of-type {\n",
              "        vertical-align: middle;\n",
              "    }\n",
              "\n",
              "    .dataframe tbody tr th {\n",
              "        vertical-align: top;\n",
              "    }\n",
              "\n",
              "    .dataframe thead th {\n",
              "        text-align: right;\n",
              "    }\n",
              "</style>\n",
              "<table border=\"1\" class=\"dataframe\">\n",
              "  <thead>\n",
              "    <tr style=\"text-align: right;\">\n",
              "      <th></th>\n",
              "      <th>POS</th>\n",
              "      <th>word</th>\n",
              "    </tr>\n",
              "  </thead>\n",
              "  <tbody>\n",
              "    <tr>\n",
              "      <th>4</th>\n",
              "      <td>NN</td>\n",
              "      <td>93</td>\n",
              "    </tr>\n",
              "    <tr>\n",
              "      <th>6</th>\n",
              "      <td>NNS</td>\n",
              "      <td>60</td>\n",
              "    </tr>\n",
              "    <tr>\n",
              "      <th>2</th>\n",
              "      <td>JJ</td>\n",
              "      <td>29</td>\n",
              "    </tr>\n",
              "    <tr>\n",
              "      <th>9</th>\n",
              "      <td>VBG</td>\n",
              "      <td>17</td>\n",
              "    </tr>\n",
              "    <tr>\n",
              "      <th>11</th>\n",
              "      <td>VBP</td>\n",
              "      <td>15</td>\n",
              "    </tr>\n",
              "    <tr>\n",
              "      <th>12</th>\n",
              "      <td>VBZ</td>\n",
              "      <td>9</td>\n",
              "    </tr>\n",
              "    <tr>\n",
              "      <th>7</th>\n",
              "      <td>RB</td>\n",
              "      <td>5</td>\n",
              "    </tr>\n",
              "    <tr>\n",
              "      <th>8</th>\n",
              "      <td>VBD</td>\n",
              "      <td>4</td>\n",
              "    </tr>\n",
              "    <tr>\n",
              "      <th>10</th>\n",
              "      <td>VBN</td>\n",
              "      <td>3</td>\n",
              "    </tr>\n",
              "    <tr>\n",
              "      <th>5</th>\n",
              "      <td>NNP</td>\n",
              "      <td>2</td>\n",
              "    </tr>\n",
              "    <tr>\n",
              "      <th>0</th>\n",
              "      <td>CC</td>\n",
              "      <td>1</td>\n",
              "    </tr>\n",
              "    <tr>\n",
              "      <th>1</th>\n",
              "      <td>IN</td>\n",
              "      <td>1</td>\n",
              "    </tr>\n",
              "    <tr>\n",
              "      <th>3</th>\n",
              "      <td>JJR</td>\n",
              "      <td>1</td>\n",
              "    </tr>\n",
              "  </tbody>\n",
              "</table>\n",
              "</div>"
            ],
            "text/plain": [
              "    POS  word\n",
              "4    NN    93\n",
              "6   NNS    60\n",
              "2    JJ    29\n",
              "9   VBG    17\n",
              "11  VBP    15\n",
              "12  VBZ     9\n",
              "7    RB     5\n",
              "8   VBD     4\n",
              "10  VBN     3\n",
              "5   NNP     2\n",
              "0    CC     1\n",
              "1    IN     1\n",
              "3   JJR     1"
            ]
          },
          "metadata": {},
          "execution_count": 26
        }
      ]
    },
    {
      "cell_type": "markdown",
      "metadata": {
        "id": "iVmYI_hPxvbI"
      },
      "source": [
        "### filtering nouns out of all the words"
      ]
    },
    {
      "cell_type": "code",
      "metadata": {
        "collapsed": true,
        "id": "cqfKLBvQxvbI"
      },
      "source": [
        "filtered_pos = [ ]"
      ],
      "execution_count": null,
      "outputs": []
    },
    {
      "cell_type": "code",
      "metadata": {
        "collapsed": true,
        "id": "hPrhulMuxvbI"
      },
      "source": [
        "for one in tokens_pos_tag:\n",
        "    if one[1] == 'NN' or one[1] == 'NNS' or one[1] == 'NNP' or one[1] == 'NNPS':\n",
        "        filtered_pos.append(one)\n",
        "        "
      ],
      "execution_count": null,
      "outputs": []
    },
    {
      "cell_type": "code",
      "metadata": {
        "id": "AM694La2xvbJ",
        "colab": {
          "base_uri": "https://localhost:8080/"
        },
        "outputId": "7cfb2de6-1760-4aa6-8f02-853ea54b87d8"
      },
      "source": [
        "print (len(filtered_pos))"
      ],
      "execution_count": null,
      "outputs": [
        {
          "output_type": "stream",
          "name": "stdout",
          "text": [
            "155\n"
          ]
        }
      ]
    },
    {
      "cell_type": "markdown",
      "metadata": {
        "id": "i__qn72rxvbJ"
      },
      "source": [
        "### Finding most frequent words"
      ]
    },
    {
      "cell_type": "code",
      "metadata": {
        "collapsed": true,
        "id": "e6vX7aQbxvbJ"
      },
      "source": [
        "fdist_pos = nltk.FreqDist(filtered_pos)"
      ],
      "execution_count": null,
      "outputs": []
    },
    {
      "cell_type": "code",
      "metadata": {
        "collapsed": true,
        "id": "FQlHjCnoxvbK"
      },
      "source": [
        "top_100_words = fdist_pos.most_common(100)"
      ],
      "execution_count": null,
      "outputs": []
    },
    {
      "cell_type": "code",
      "metadata": {
        "id": "BCxc2VPbxvbK",
        "colab": {
          "base_uri": "https://localhost:8080/"
        },
        "outputId": "42b8dab8-4027-4d64-b57c-c3158a4cccc9"
      },
      "source": [
        "print(top_100_words)"
      ],
      "execution_count": null,
      "outputs": [
        {
          "output_type": "stream",
          "name": "stdout",
          "text": [
            "[(('data', 'NNS'), 9), (('business', 'NN'), 4), (('analyst', 'NN'), 3), (('job', 'NN'), 3), (('models', 'NNS'), 3), (('hours', 'NNS'), 3), (('benefits', 'NNS'), 3), (('education', 'NN'), 3), (('knowledge', 'NN'), 3), (('analysis', 'NN'), 3), (('process', 'NN'), 3), (('experience', 'NN'), 3), (('management', 'NN'), 3), (('information', 'NN'), 2), (('support', 'NN'), 2), (('decision', 'NN'), 2), (('systems', 'NNS'), 2), (('analyses', 'NNS'), 2), (('analysts', 'NNS'), 2), (('skills', 'NNS'), 2), (('software', 'NN'), 2), (('proficiency', 'NN'), 2), (('skill', 'NN'), 2), (('communication', 'NN'), 2), (('group', 'NN'), 2), (('responsibilities', 'NNS'), 1), (('manages', 'NNS'), 1), (('making', 'NN'), 1), (('performs', 'NNS'), 1), (('facilitates', 'NNS'), 1), (('trains', 'NNS'), 1), (('issues', 'NNS'), 1), (('risk', 'NN'), 1), (('assessment', 'NN'), 1), (('processes', 'NNS'), 1), (('services', 'NNS'), 1), (('leadership', 'NN'), 1), (('training', 'NN'), 1), (('methodology', 'NN'), 1), (('prioritization', 'NN'), 1), (('projects', 'NNS'), 1), (('problems', 'NNS'), 1), (('determines', 'NNS'), 1), (('causes', 'NNS'), 1), (('defines', 'NNS'), 1), (('company', 'NN'), 1), (('assets', 'NNS'), 1), (('hivesql', 'NN'), 1), (('jobs', 'NNS'), 1), (('works', 'NNS'), 1), (('units', 'NNS'), 1), (('engineering', 'NN'), 1), (('teams', 'NNS'), 1), (('strategy', 'NN'), 1), (('term', 'NN'), 1), (('platform', 'NN'), 1), (('architecture', 'NN'), 1), (('[', 'NNP'), 1), (('work', 'NN'), 1), (('seekers', 'NNS'), 1), (('descriptions', 'NNS'), 1), (('data', 'NN'), 1), (('availability', 'NN'), 1), (('home', 'NN'), 1), (('options', 'NNS'), 1), (('opportunities', 'NNS'), 1), (('office', 'NN'), 1), (('conference', 'NN'), 1), (('sponsorships', 'NNS'), 1), (('credits', 'NNS'), 1), (('time', 'NN'), 1), (('qualifications', 'NNS'), 1), (('—', 'NNP'), 1), (('enterprise', 'NN'), 1), (('department', 'NN'), 1), (('level', 'NN'), 1), (('documentation', 'NN'), 1), (('licensing', 'NN'), 1), (('requirements', 'NNS'), 1), (('degree', 'NN'), 1), (('administration', 'NN'), 1), (('economics', 'NNS'), 1), (('computer', 'NN'), 1), (('science', 'NN'), 1), (('field', 'NN'), 1), (('five+', 'NN'), 1), (('years', 'NNS'), 1), (('statistics', 'NNS'), 1), (('research', 'NN'), 1), (('methods', 'NNS'), 1), (('adaptability', 'NN'), 1), (('customer', 'NN'), 1), (('service', 'NN'), 1), (('relations', 'NNS'), 1), (('problem', 'NN'), 1), (('project', 'NN'), 1), (('quality', 'NN'), 1), (('teamwork', 'NN'), 1), (('presentations', 'NNS'), 1), (('facilitation', 'NN'), 1)]\n"
          ]
        }
      ]
    },
    {
      "cell_type": "code",
      "metadata": {
        "collapsed": true,
        "id": "oZLUwza7xvbK"
      },
      "source": [
        "top_words_df = pd.DataFrame(top_100_words, columns = ('pos','count'))"
      ],
      "execution_count": null,
      "outputs": []
    },
    {
      "cell_type": "code",
      "metadata": {
        "id": "2P7_03z1xvbL",
        "colab": {
          "base_uri": "https://localhost:8080/",
          "height": 203
        },
        "outputId": "995b24e6-216e-42ea-f603-87494a368870"
      },
      "source": [
        "top_words_df.head()"
      ],
      "execution_count": null,
      "outputs": [
        {
          "output_type": "execute_result",
          "data": {
            "text/html": [
              "<div>\n",
              "<style scoped>\n",
              "    .dataframe tbody tr th:only-of-type {\n",
              "        vertical-align: middle;\n",
              "    }\n",
              "\n",
              "    .dataframe tbody tr th {\n",
              "        vertical-align: top;\n",
              "    }\n",
              "\n",
              "    .dataframe thead th {\n",
              "        text-align: right;\n",
              "    }\n",
              "</style>\n",
              "<table border=\"1\" class=\"dataframe\">\n",
              "  <thead>\n",
              "    <tr style=\"text-align: right;\">\n",
              "      <th></th>\n",
              "      <th>pos</th>\n",
              "      <th>count</th>\n",
              "    </tr>\n",
              "  </thead>\n",
              "  <tbody>\n",
              "    <tr>\n",
              "      <th>0</th>\n",
              "      <td>(data, NNS)</td>\n",
              "      <td>9</td>\n",
              "    </tr>\n",
              "    <tr>\n",
              "      <th>1</th>\n",
              "      <td>(business, NN)</td>\n",
              "      <td>4</td>\n",
              "    </tr>\n",
              "    <tr>\n",
              "      <th>2</th>\n",
              "      <td>(analyst, NN)</td>\n",
              "      <td>3</td>\n",
              "    </tr>\n",
              "    <tr>\n",
              "      <th>3</th>\n",
              "      <td>(job, NN)</td>\n",
              "      <td>3</td>\n",
              "    </tr>\n",
              "    <tr>\n",
              "      <th>4</th>\n",
              "      <td>(models, NNS)</td>\n",
              "      <td>3</td>\n",
              "    </tr>\n",
              "  </tbody>\n",
              "</table>\n",
              "</div>"
            ],
            "text/plain": [
              "              pos  count\n",
              "0     (data, NNS)      9\n",
              "1  (business, NN)      4\n",
              "2   (analyst, NN)      3\n",
              "3       (job, NN)      3\n",
              "4   (models, NNS)      3"
            ]
          },
          "metadata": {},
          "execution_count": 34
        }
      ]
    },
    {
      "cell_type": "code",
      "metadata": {
        "id": "0NBOVIB8xvbL"
      },
      "source": [
        "top_words_df['Word'] = top_words_df['pos'].apply(lambda x: x[0]) # split the tuple of POS"
      ],
      "execution_count": null,
      "outputs": []
    },
    {
      "cell_type": "code",
      "metadata": {
        "collapsed": true,
        "id": "eLcdxB2CxvbL"
      },
      "source": [
        "top_words_df = top_words_df.drop('pos', 1) # drop the previous column"
      ],
      "execution_count": null,
      "outputs": []
    },
    {
      "cell_type": "code",
      "metadata": {
        "id": "M-aezIPkxvbM",
        "colab": {
          "base_uri": "https://localhost:8080/",
          "height": 203
        },
        "outputId": "d8abf9b6-4134-4e91-9618-7d91a038553f"
      },
      "source": [
        "top_words_df.head()"
      ],
      "execution_count": null,
      "outputs": [
        {
          "output_type": "execute_result",
          "data": {
            "text/html": [
              "<div>\n",
              "<style scoped>\n",
              "    .dataframe tbody tr th:only-of-type {\n",
              "        vertical-align: middle;\n",
              "    }\n",
              "\n",
              "    .dataframe tbody tr th {\n",
              "        vertical-align: top;\n",
              "    }\n",
              "\n",
              "    .dataframe thead th {\n",
              "        text-align: right;\n",
              "    }\n",
              "</style>\n",
              "<table border=\"1\" class=\"dataframe\">\n",
              "  <thead>\n",
              "    <tr style=\"text-align: right;\">\n",
              "      <th></th>\n",
              "      <th>count</th>\n",
              "      <th>Word</th>\n",
              "    </tr>\n",
              "  </thead>\n",
              "  <tbody>\n",
              "    <tr>\n",
              "      <th>0</th>\n",
              "      <td>9</td>\n",
              "      <td>data</td>\n",
              "    </tr>\n",
              "    <tr>\n",
              "      <th>1</th>\n",
              "      <td>4</td>\n",
              "      <td>business</td>\n",
              "    </tr>\n",
              "    <tr>\n",
              "      <th>2</th>\n",
              "      <td>3</td>\n",
              "      <td>analyst</td>\n",
              "    </tr>\n",
              "    <tr>\n",
              "      <th>3</th>\n",
              "      <td>3</td>\n",
              "      <td>job</td>\n",
              "    </tr>\n",
              "    <tr>\n",
              "      <th>4</th>\n",
              "      <td>3</td>\n",
              "      <td>models</td>\n",
              "    </tr>\n",
              "  </tbody>\n",
              "</table>\n",
              "</div>"
            ],
            "text/plain": [
              "   count      Word\n",
              "0      9      data\n",
              "1      4  business\n",
              "2      3   analyst\n",
              "3      3       job\n",
              "4      3    models"
            ]
          },
          "metadata": {},
          "execution_count": 37
        }
      ]
    },
    {
      "cell_type": "code",
      "metadata": {
        "collapsed": true,
        "id": "iCV88jiJxvbM"
      },
      "source": [
        "subset_pos = top_words_df[['Word', 'count']]"
      ],
      "execution_count": null,
      "outputs": []
    },
    {
      "cell_type": "code",
      "metadata": {
        "id": "GOu5QlsnxvbM"
      },
      "source": [
        "tuples_pos = [tuple(x) for x in subset_pos.values]"
      ],
      "execution_count": null,
      "outputs": []
    },
    {
      "cell_type": "code",
      "metadata": {
        "collapsed": true,
        "id": "JGNg9nWOxvbN",
        "colab": {
          "base_uri": "https://localhost:8080/"
        },
        "outputId": "c026e4ff-b7e7-4179-cde5-719bc8e76e53"
      },
      "source": [
        "print(tuples_pos)"
      ],
      "execution_count": null,
      "outputs": [
        {
          "output_type": "stream",
          "name": "stdout",
          "text": [
            "[('data', 9), ('business', 4), ('analyst', 3), ('job', 3), ('models', 3), ('hours', 3), ('benefits', 3), ('education', 3), ('knowledge', 3), ('analysis', 3), ('process', 3), ('experience', 3), ('management', 3), ('information', 2), ('support', 2), ('decision', 2), ('systems', 2), ('analyses', 2), ('analysts', 2), ('skills', 2), ('software', 2), ('proficiency', 2), ('skill', 2), ('communication', 2), ('group', 2), ('responsibilities', 1), ('manages', 1), ('making', 1), ('performs', 1), ('facilitates', 1), ('trains', 1), ('issues', 1), ('risk', 1), ('assessment', 1), ('processes', 1), ('services', 1), ('leadership', 1), ('training', 1), ('methodology', 1), ('prioritization', 1), ('projects', 1), ('problems', 1), ('determines', 1), ('causes', 1), ('defines', 1), ('company', 1), ('assets', 1), ('hivesql', 1), ('jobs', 1), ('works', 1), ('units', 1), ('engineering', 1), ('teams', 1), ('strategy', 1), ('term', 1), ('platform', 1), ('architecture', 1), ('[', 1), ('work', 1), ('seekers', 1), ('descriptions', 1), ('data', 1), ('availability', 1), ('home', 1), ('options', 1), ('opportunities', 1), ('office', 1), ('conference', 1), ('sponsorships', 1), ('credits', 1), ('time', 1), ('qualifications', 1), ('—', 1), ('enterprise', 1), ('department', 1), ('level', 1), ('documentation', 1), ('licensing', 1), ('requirements', 1), ('degree', 1), ('administration', 1), ('economics', 1), ('computer', 1), ('science', 1), ('field', 1), ('five+', 1), ('years', 1), ('statistics', 1), ('research', 1), ('methods', 1), ('adaptability', 1), ('customer', 1), ('service', 1), ('relations', 1), ('problem', 1), ('project', 1), ('quality', 1), ('teamwork', 1), ('presentations', 1), ('facilitation', 1)]\n"
          ]
        }
      ]
    }
  ]
}